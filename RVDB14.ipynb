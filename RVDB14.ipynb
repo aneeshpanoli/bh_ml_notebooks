{
 "cells": [
  {
   "cell_type": "markdown",
   "metadata": {},
   "source": [
    "# Import libraries"
   ]
  },
  {
   "cell_type": "code",
   "execution_count": 1,
   "metadata": {},
   "outputs": [
    {
     "name": "stderr",
     "output_type": "stream",
     "text": [
      "/home/aneesh/Projects/covid_bh_ml/lib/python3.6/site-packages/sklearn/utils/deprecation.py:144: FutureWarning: The sklearn.metrics.scorer module is  deprecated in version 0.22 and will be removed in version 0.24. The corresponding classes / functions should instead be imported from sklearn.metrics. Anything that cannot be imported from sklearn.metrics is now part of the private API.\n",
      "  warnings.warn(message, FutureWarning)\n",
      "/home/aneesh/Projects/covid_bh_ml/lib/python3.6/site-packages/sklearn/utils/deprecation.py:144: FutureWarning: The sklearn.feature_selection.base module is  deprecated in version 0.22 and will be removed in version 0.24. The corresponding classes / functions should instead be imported from sklearn.feature_selection. Anything that cannot be imported from sklearn.feature_selection is now part of the private API.\n",
      "  warnings.warn(message, FutureWarning)\n",
      "Using TensorFlow backend.\n"
     ]
    }
   ],
   "source": [
    "import sklearn\n",
    "import numpy as np\n",
    "from sklearn.feature_extraction.text import CountVectorizer\n",
    "from sklearn.cluster import MiniBatchKMeans\n",
    "import matplotlib.pyplot as plt\n",
    "from eli5 import show_weights, show_prediction\n",
    "import seaborn as sns\n",
    "from sklearn.manifold import TSNE\n",
    "import os\n",
    "import pandas as pd\n",
    "\n",
    "#custom\n",
    "from py.helper import DataProcessing\n",
    "from py.ml_metrics import evaluate_model, multiclass_logloss\n",
    "from py.plotting import plot_tsne"
   ]
  },
  {
   "cell_type": "code",
   "execution_count": 2,
   "metadata": {},
   "outputs": [],
   "source": [
    "# set K-mer length here\n",
    "kmer = 4\n"
   ]
  },
  {
   "cell_type": "code",
   "execution_count": 3,
   "metadata": {},
   "outputs": [],
   "source": [
    "rvdb14 = DataProcessing('RVDB14_complete_coronavirus_fixed.fasta', 'RVDB14_Coronavirus_meta_data_human_pathogen.csv')"
   ]
  },
  {
   "cell_type": "code",
   "execution_count": 4,
   "metadata": {},
   "outputs": [],
   "source": [
    "# #this will take a while\n",
    "# # kmers = orf1.get_amino_kmer_df(4)\n",
    "# amino_df = orf1.get_amino_df(kmer)\n",
    "# print(amino_df.shape)\n",
    "\n",
    "# # get rid of duplicates\n",
    "# amino_df.drop_duplicates(subset='Accession', keep=False, inplace=True)\n",
    "# print(amino_df.shape)\n",
    "# amino_df.head()"
   ]
  },
  {
   "cell_type": "code",
   "execution_count": 5,
   "metadata": {},
   "outputs": [
    {
     "data": {
      "text/html": [
       "<div>\n",
       "<style scoped>\n",
       "    .dataframe tbody tr th:only-of-type {\n",
       "        vertical-align: middle;\n",
       "    }\n",
       "\n",
       "    .dataframe tbody tr th {\n",
       "        vertical-align: top;\n",
       "    }\n",
       "\n",
       "    .dataframe thead th {\n",
       "        text-align: right;\n",
       "    }\n",
       "</style>\n",
       "<table border=\"1\" class=\"dataframe\">\n",
       "  <thead>\n",
       "    <tr style=\"text-align: right;\">\n",
       "      <th></th>\n",
       "      <th>accession</th>\n",
       "      <th>label</th>\n",
       "    </tr>\n",
       "  </thead>\n",
       "  <tbody>\n",
       "    <tr>\n",
       "      <th>0</th>\n",
       "      <td>KM349744.1</td>\n",
       "      <td>0</td>\n",
       "    </tr>\n",
       "    <tr>\n",
       "      <th>1</th>\n",
       "      <td>KJ156866.1</td>\n",
       "      <td>1</td>\n",
       "    </tr>\n",
       "    <tr>\n",
       "      <th>2</th>\n",
       "      <td>KM027262.1</td>\n",
       "      <td>1</td>\n",
       "    </tr>\n",
       "    <tr>\n",
       "      <th>3</th>\n",
       "      <td>NC_028806.1</td>\n",
       "      <td>0</td>\n",
       "    </tr>\n",
       "    <tr>\n",
       "      <th>4</th>\n",
       "      <td>AY545916.1</td>\n",
       "      <td>1</td>\n",
       "    </tr>\n",
       "  </tbody>\n",
       "</table>\n",
       "</div>"
      ],
      "text/plain": [
       "     accession  label\n",
       "0   KM349744.1      0\n",
       "1   KJ156866.1      1\n",
       "2   KM027262.1      1\n",
       "3  NC_028806.1      0\n",
       "4   AY545916.1      1"
      ]
     },
     "execution_count": 5,
     "metadata": {},
     "output_type": "execute_result"
    }
   ],
   "source": [
    "label_df = rvdb14.get_meta_df('tsv')\n",
    "label_df.head()"
   ]
  },
  {
   "cell_type": "code",
   "execution_count": 6,
   "metadata": {},
   "outputs": [
    {
     "name": "stdout",
     "output_type": "stream",
     "text": [
      "[SeqRecord(seq=Seq('ACTTTTAAAGATAAGTGAGTGTAGCGTAGCTGCCTACTTTCTTTAACTTGACTC...AAA', SingleLetterAlphabet()), id='acc|REFSEQ|NC_030292.1|Ferret', name='acc|REFSEQ|NC_030292.1|Ferret', description='acc|REFSEQ|NC_030292.1|Ferret coronavirus isolate FRCoV-NL-2010, complete genome', dbxrefs=[])]\n"
     ]
    },
    {
     "data": {
      "text/html": [
       "<div>\n",
       "<style scoped>\n",
       "    .dataframe tbody tr th:only-of-type {\n",
       "        vertical-align: middle;\n",
       "    }\n",
       "\n",
       "    .dataframe tbody tr th {\n",
       "        vertical-align: top;\n",
       "    }\n",
       "\n",
       "    .dataframe thead th {\n",
       "        text-align: right;\n",
       "    }\n",
       "</style>\n",
       "<table border=\"1\" class=\"dataframe\">\n",
       "  <thead>\n",
       "    <tr style=\"text-align: right;\">\n",
       "      <th></th>\n",
       "      <th>seq</th>\n",
       "      <th>id</th>\n",
       "      <th>description</th>\n",
       "    </tr>\n",
       "  </thead>\n",
       "  <tbody>\n",
       "    <tr>\n",
       "      <th>0</th>\n",
       "      <td>ACTTTTAAAGATAAGTGAGTGTAGCGTAGCTGCCTACTTTCTTTAA...</td>\n",
       "      <td>acc|REFSEQ|NC_030292.1|Ferret</td>\n",
       "      <td>acc|REFSEQ|NC_030292.1|Ferret coronavirus isol...</td>\n",
       "    </tr>\n",
       "    <tr>\n",
       "      <th>1</th>\n",
       "      <td>ACTTAAGTGTCTTATCTATCTATAGATAGAAAAGTCGCTTTTTAGA...</td>\n",
       "      <td>acc|REFSEQ|NC_028752.1|Camel</td>\n",
       "      <td>acc|REFSEQ|NC_028752.1|Camel alphacoronavirus ...</td>\n",
       "    </tr>\n",
       "    <tr>\n",
       "      <th>2</th>\n",
       "      <td>AGTAAAGTGAGTGTAGCGTGGCTATATCTCTTCTTTTACTTTAACT...</td>\n",
       "      <td>acc|REFSEQ|NC_028806.1|Swine</td>\n",
       "      <td>acc|REFSEQ|NC_028806.1|Swine enteric coronavir...</td>\n",
       "    </tr>\n",
       "    <tr>\n",
       "      <th>3</th>\n",
       "      <td>AAGTGTCGTGCTCCTAGGGGTTGCACTTGACGTGTTCCGTCACGTA...</td>\n",
       "      <td>acc|REFSEQ|NC_028824.1|BtRf-AlphaCoV_YN2012,</td>\n",
       "      <td>acc|REFSEQ|NC_028824.1|BtRf-AlphaCoV_YN2012, a...</td>\n",
       "    </tr>\n",
       "    <tr>\n",
       "      <th>4</th>\n",
       "      <td>GGCCCCCATGGCTAGCAACCGTATTTCGTTGGCTTTTGCCAATGAT...</td>\n",
       "      <td>acc|REFSEQ|NC_028814.1|BtRf-AlphaCoV_HuB2013,</td>\n",
       "      <td>acc|REFSEQ|NC_028814.1|BtRf-AlphaCoV_HuB2013, ...</td>\n",
       "    </tr>\n",
       "  </tbody>\n",
       "</table>\n",
       "</div>"
      ],
      "text/plain": [
       "                                                 seq  \\\n",
       "0  ACTTTTAAAGATAAGTGAGTGTAGCGTAGCTGCCTACTTTCTTTAA...   \n",
       "1  ACTTAAGTGTCTTATCTATCTATAGATAGAAAAGTCGCTTTTTAGA...   \n",
       "2  AGTAAAGTGAGTGTAGCGTGGCTATATCTCTTCTTTTACTTTAACT...   \n",
       "3  AAGTGTCGTGCTCCTAGGGGTTGCACTTGACGTGTTCCGTCACGTA...   \n",
       "4  GGCCCCCATGGCTAGCAACCGTATTTCGTTGGCTTTTGCCAATGAT...   \n",
       "\n",
       "                                              id  \\\n",
       "0                  acc|REFSEQ|NC_030292.1|Ferret   \n",
       "1                   acc|REFSEQ|NC_028752.1|Camel   \n",
       "2                   acc|REFSEQ|NC_028806.1|Swine   \n",
       "3   acc|REFSEQ|NC_028824.1|BtRf-AlphaCoV_YN2012,   \n",
       "4  acc|REFSEQ|NC_028814.1|BtRf-AlphaCoV_HuB2013,   \n",
       "\n",
       "                                         description  \n",
       "0  acc|REFSEQ|NC_030292.1|Ferret coronavirus isol...  \n",
       "1  acc|REFSEQ|NC_028752.1|Camel alphacoronavirus ...  \n",
       "2  acc|REFSEQ|NC_028806.1|Swine enteric coronavir...  \n",
       "3  acc|REFSEQ|NC_028824.1|BtRf-AlphaCoV_YN2012, a...  \n",
       "4  acc|REFSEQ|NC_028814.1|BtRf-AlphaCoV_HuB2013, ...  "
      ]
     },
     "execution_count": 6,
     "metadata": {},
     "output_type": "execute_result"
    }
   ],
   "source": [
    "fasta_df = rvdb14.get_fasta__df()\n",
    "fasta_df.head()"
   ]
  },
  {
   "cell_type": "code",
   "execution_count": 7,
   "metadata": {},
   "outputs": [
    {
     "name": "stdout",
     "output_type": "stream",
     "text": [
      "<class 'pandas.core.frame.DataFrame'>\n",
      "Int64Index: 2349 entries, 0 to 2348\n",
      "Data columns (total 2 columns):\n",
      " #   Column     Non-Null Count  Dtype \n",
      "---  ------     --------------  ----- \n",
      " 0   accession  2349 non-null   object\n",
      " 1   label      2349 non-null   int64 \n",
      "dtypes: int64(1), object(1)\n",
      "memory usage: 55.1+ KB\n"
     ]
    }
   ],
   "source": [
    "label_df.drop_duplicates(subset='accession', keep=False, inplace=True)\n",
    "label_df.info()\n",
    "# label_df['accession'] = label_df['accession'].apply(str)\n",
    "# fasta_df['id'] = fasta_df['id'].apply(str)"
   ]
  },
  {
   "cell_type": "code",
   "execution_count": 8,
   "metadata": {},
   "outputs": [
    {
     "name": "stdout",
     "output_type": "stream",
     "text": [
      "<class 'pandas.core.frame.DataFrame'>\n",
      "RangeIndex: 2278 entries, 0 to 2277\n",
      "Data columns (total 3 columns):\n",
      " #   Column       Non-Null Count  Dtype \n",
      "---  ------       --------------  ----- \n",
      " 0   seq          2278 non-null   object\n",
      " 1   id           2278 non-null   object\n",
      " 2   description  2278 non-null   object\n",
      "dtypes: object(3)\n",
      "memory usage: 53.5+ KB\n"
     ]
    }
   ],
   "source": [
    "fasta_df.info()"
   ]
  },
  {
   "cell_type": "markdown",
   "metadata": {},
   "source": [
    "# Filter rows\n",
    "- the length of label df is greater than that of fasta_df"
   ]
  },
  {
   "cell_type": "code",
   "execution_count": 9,
   "metadata": {},
   "outputs": [
    {
     "name": "stdout",
     "output_type": "stream",
     "text": [
      "2278\n"
     ]
    }
   ],
   "source": [
    "# labels df and fasta df have different lengths, so we need filter out those with labels\n",
    "filtered_fa = [i for i in fasta_df['id'] for j in label_df['accession'] if j in i]\n",
    "\n",
    "\n",
    "filtered_la = [i for i in label_df['accession'] for j in filtered_fa if i in j]\n",
    "print(len(filtered_fa))"
   ]
  },
  {
   "cell_type": "code",
   "execution_count": 10,
   "metadata": {},
   "outputs": [],
   "source": [
    "# drop the rows from fasta-table for which no labels are available\n",
    "fasta_df['label'] = ''\n",
    "for index, row in fasta_df.iterrows():\n",
    "    if row['id'] not in set(filtered_fa):\n",
    "        fasta_df.drop(index, inplace=True)\n",
    "        \n",
    "# insert accession numbers to fasta-table     \n",
    "fasta_df['accession'] = fasta_df['id']\n",
    "fasta_df['accession'] = fasta_df['accession'].apply(lambda x: x.split('|')[2])\n",
    "        \n",
    "# drop the all the labels that are not part of fasta-table\n",
    "for index, row in label_df.iterrows():\n",
    "    if row['accession'] not in set(filtered_la):\n",
    "        label_df.drop(index, inplace=True)\n",
    "        \n",
    "# copy the labels form labels-table to fasta-table    \n",
    "fasta_df.loc[fasta_df.accession.isin(label_df.accession), ['label']] = label_df[['label']]\n",
    "\n"
   ]
  },
  {
   "cell_type": "code",
   "execution_count": 11,
   "metadata": {},
   "outputs": [
    {
     "name": "stdout",
     "output_type": "stream",
     "text": [
      "<class 'pandas.core.frame.DataFrame'>\n",
      "Int64Index: 2278 entries, 0 to 2348\n",
      "Data columns (total 2 columns):\n",
      " #   Column     Non-Null Count  Dtype \n",
      "---  ------     --------------  ----- \n",
      " 0   accession  2278 non-null   object\n",
      " 1   label      2278 non-null   int64 \n",
      "dtypes: int64(1), object(1)\n",
      "memory usage: 133.4+ KB\n"
     ]
    }
   ],
   "source": [
    "label_df.info()"
   ]
  },
  {
   "cell_type": "code",
   "execution_count": 12,
   "metadata": {},
   "outputs": [
    {
     "name": "stdout",
     "output_type": "stream",
     "text": [
      "<class 'pandas.core.frame.DataFrame'>\n",
      "RangeIndex: 2278 entries, 0 to 2277\n",
      "Data columns (total 5 columns):\n",
      " #   Column       Non-Null Count  Dtype \n",
      "---  ------       --------------  ----- \n",
      " 0   seq          2278 non-null   object\n",
      " 1   id           2278 non-null   object\n",
      " 2   description  2278 non-null   object\n",
      " 3   label        2207 non-null   object\n",
      " 4   accession    2278 non-null   object\n",
      "dtypes: object(5)\n",
      "memory usage: 89.1+ KB\n"
     ]
    }
   ],
   "source": [
    "fasta_df.info()"
   ]
  },
  {
   "cell_type": "code",
   "execution_count": 13,
   "metadata": {},
   "outputs": [
    {
     "name": "stdout",
     "output_type": "stream",
     "text": [
      "(2278, 5)\n"
     ]
    },
    {
     "data": {
      "text/html": [
       "<div>\n",
       "<style scoped>\n",
       "    .dataframe tbody tr th:only-of-type {\n",
       "        vertical-align: middle;\n",
       "    }\n",
       "\n",
       "    .dataframe tbody tr th {\n",
       "        vertical-align: top;\n",
       "    }\n",
       "\n",
       "    .dataframe thead th {\n",
       "        text-align: right;\n",
       "    }\n",
       "</style>\n",
       "<table border=\"1\" class=\"dataframe\">\n",
       "  <thead>\n",
       "    <tr style=\"text-align: right;\">\n",
       "      <th></th>\n",
       "      <th>seq</th>\n",
       "      <th>id</th>\n",
       "      <th>description</th>\n",
       "      <th>label</th>\n",
       "      <th>accession</th>\n",
       "    </tr>\n",
       "  </thead>\n",
       "  <tbody>\n",
       "    <tr>\n",
       "      <th>0</th>\n",
       "      <td>ACTTTTAAAGATAAGTGAGTGTAGCGTAGCTGCCTACTTTCTTTAA...</td>\n",
       "      <td>acc|REFSEQ|NC_030292.1|Ferret</td>\n",
       "      <td>acc|REFSEQ|NC_030292.1|Ferret coronavirus isol...</td>\n",
       "      <td>0</td>\n",
       "      <td>NC_030292.1</td>\n",
       "    </tr>\n",
       "    <tr>\n",
       "      <th>1</th>\n",
       "      <td>ACTTAAGTGTCTTATCTATCTATAGATAGAAAAGTCGCTTTTTAGA...</td>\n",
       "      <td>acc|REFSEQ|NC_028752.1|Camel</td>\n",
       "      <td>acc|REFSEQ|NC_028752.1|Camel alphacoronavirus ...</td>\n",
       "      <td>1</td>\n",
       "      <td>NC_028752.1</td>\n",
       "    </tr>\n",
       "    <tr>\n",
       "      <th>2</th>\n",
       "      <td>AGTAAAGTGAGTGTAGCGTGGCTATATCTCTTCTTTTACTTTAACT...</td>\n",
       "      <td>acc|REFSEQ|NC_028806.1|Swine</td>\n",
       "      <td>acc|REFSEQ|NC_028806.1|Swine enteric coronavir...</td>\n",
       "      <td>1</td>\n",
       "      <td>NC_028806.1</td>\n",
       "    </tr>\n",
       "    <tr>\n",
       "      <th>3</th>\n",
       "      <td>AAGTGTCGTGCTCCTAGGGGTTGCACTTGACGTGTTCCGTCACGTA...</td>\n",
       "      <td>acc|REFSEQ|NC_028824.1|BtRf-AlphaCoV_YN2012,</td>\n",
       "      <td>acc|REFSEQ|NC_028824.1|BtRf-AlphaCoV_YN2012, a...</td>\n",
       "      <td>0</td>\n",
       "      <td>NC_028824.1</td>\n",
       "    </tr>\n",
       "    <tr>\n",
       "      <th>4</th>\n",
       "      <td>GGCCCCCATGGCTAGCAACCGTATTTCGTTGGCTTTTGCCAATGAT...</td>\n",
       "      <td>acc|REFSEQ|NC_028814.1|BtRf-AlphaCoV_HuB2013,</td>\n",
       "      <td>acc|REFSEQ|NC_028814.1|BtRf-AlphaCoV_HuB2013, ...</td>\n",
       "      <td>1</td>\n",
       "      <td>NC_028814.1</td>\n",
       "    </tr>\n",
       "  </tbody>\n",
       "</table>\n",
       "</div>"
      ],
      "text/plain": [
       "                                                 seq  \\\n",
       "0  ACTTTTAAAGATAAGTGAGTGTAGCGTAGCTGCCTACTTTCTTTAA...   \n",
       "1  ACTTAAGTGTCTTATCTATCTATAGATAGAAAAGTCGCTTTTTAGA...   \n",
       "2  AGTAAAGTGAGTGTAGCGTGGCTATATCTCTTCTTTTACTTTAACT...   \n",
       "3  AAGTGTCGTGCTCCTAGGGGTTGCACTTGACGTGTTCCGTCACGTA...   \n",
       "4  GGCCCCCATGGCTAGCAACCGTATTTCGTTGGCTTTTGCCAATGAT...   \n",
       "\n",
       "                                              id  \\\n",
       "0                  acc|REFSEQ|NC_030292.1|Ferret   \n",
       "1                   acc|REFSEQ|NC_028752.1|Camel   \n",
       "2                   acc|REFSEQ|NC_028806.1|Swine   \n",
       "3   acc|REFSEQ|NC_028824.1|BtRf-AlphaCoV_YN2012,   \n",
       "4  acc|REFSEQ|NC_028814.1|BtRf-AlphaCoV_HuB2013,   \n",
       "\n",
       "                                         description label    accession  \n",
       "0  acc|REFSEQ|NC_030292.1|Ferret coronavirus isol...     0  NC_030292.1  \n",
       "1  acc|REFSEQ|NC_028752.1|Camel alphacoronavirus ...     1  NC_028752.1  \n",
       "2  acc|REFSEQ|NC_028806.1|Swine enteric coronavir...     1  NC_028806.1  \n",
       "3  acc|REFSEQ|NC_028824.1|BtRf-AlphaCoV_YN2012, a...     0  NC_028824.1  \n",
       "4  acc|REFSEQ|NC_028814.1|BtRf-AlphaCoV_HuB2013, ...     1  NC_028814.1  "
      ]
     },
     "execution_count": 13,
     "metadata": {},
     "output_type": "execute_result"
    }
   ],
   "source": [
    "print(fasta_df.shape)\n",
    "fasta_df.head()"
   ]
  },
  {
   "cell_type": "code",
   "execution_count": 14,
   "metadata": {},
   "outputs": [],
   "source": [
    "# remove nans\n",
    "fasta_df.dropna(inplace=True)\n",
    "\n",
    "#save\n",
    "fasta_df.to_csv(os.path.join(rvdb14.data_path, 'RVDB14_complete_coronavirus_fixed.fasta.csv'), header=True, index=False)"
   ]
  },
  {
   "cell_type": "markdown",
   "metadata": {},
   "source": [
    "# Load cleaned data"
   ]
  },
  {
   "cell_type": "code",
   "execution_count": 25,
   "metadata": {},
   "outputs": [
    {
     "data": {
      "text/html": [
       "<div>\n",
       "<style scoped>\n",
       "    .dataframe tbody tr th:only-of-type {\n",
       "        vertical-align: middle;\n",
       "    }\n",
       "\n",
       "    .dataframe tbody tr th {\n",
       "        vertical-align: top;\n",
       "    }\n",
       "\n",
       "    .dataframe thead th {\n",
       "        text-align: right;\n",
       "    }\n",
       "</style>\n",
       "<table border=\"1\" class=\"dataframe\">\n",
       "  <thead>\n",
       "    <tr style=\"text-align: right;\">\n",
       "      <th></th>\n",
       "      <th>seq</th>\n",
       "      <th>id</th>\n",
       "      <th>description</th>\n",
       "      <th>label</th>\n",
       "      <th>accession</th>\n",
       "    </tr>\n",
       "  </thead>\n",
       "  <tbody>\n",
       "    <tr>\n",
       "      <th>0</th>\n",
       "      <td>ACTTTTAAAGATAAGTGAGTGTAGCGTAGCTGCCTACTTTCTTTAA...</td>\n",
       "      <td>acc|REFSEQ|NC_030292.1|Ferret</td>\n",
       "      <td>acc|REFSEQ|NC_030292.1|Ferret coronavirus isol...</td>\n",
       "      <td>0</td>\n",
       "      <td>NC_030292.1</td>\n",
       "    </tr>\n",
       "    <tr>\n",
       "      <th>1</th>\n",
       "      <td>ACTTAAGTGTCTTATCTATCTATAGATAGAAAAGTCGCTTTTTAGA...</td>\n",
       "      <td>acc|REFSEQ|NC_028752.1|Camel</td>\n",
       "      <td>acc|REFSEQ|NC_028752.1|Camel alphacoronavirus ...</td>\n",
       "      <td>1</td>\n",
       "      <td>NC_028752.1</td>\n",
       "    </tr>\n",
       "    <tr>\n",
       "      <th>2</th>\n",
       "      <td>AGTAAAGTGAGTGTAGCGTGGCTATATCTCTTCTTTTACTTTAACT...</td>\n",
       "      <td>acc|REFSEQ|NC_028806.1|Swine</td>\n",
       "      <td>acc|REFSEQ|NC_028806.1|Swine enteric coronavir...</td>\n",
       "      <td>1</td>\n",
       "      <td>NC_028806.1</td>\n",
       "    </tr>\n",
       "    <tr>\n",
       "      <th>3</th>\n",
       "      <td>AAGTGTCGTGCTCCTAGGGGTTGCACTTGACGTGTTCCGTCACGTA...</td>\n",
       "      <td>acc|REFSEQ|NC_028824.1|BtRf-AlphaCoV_YN2012,</td>\n",
       "      <td>acc|REFSEQ|NC_028824.1|BtRf-AlphaCoV_YN2012, a...</td>\n",
       "      <td>0</td>\n",
       "      <td>NC_028824.1</td>\n",
       "    </tr>\n",
       "    <tr>\n",
       "      <th>4</th>\n",
       "      <td>GGCCCCCATGGCTAGCAACCGTATTTCGTTGGCTTTTGCCAATGAT...</td>\n",
       "      <td>acc|REFSEQ|NC_028814.1|BtRf-AlphaCoV_HuB2013,</td>\n",
       "      <td>acc|REFSEQ|NC_028814.1|BtRf-AlphaCoV_HuB2013, ...</td>\n",
       "      <td>1</td>\n",
       "      <td>NC_028814.1</td>\n",
       "    </tr>\n",
       "  </tbody>\n",
       "</table>\n",
       "</div>"
      ],
      "text/plain": [
       "                                                 seq  \\\n",
       "0  ACTTTTAAAGATAAGTGAGTGTAGCGTAGCTGCCTACTTTCTTTAA...   \n",
       "1  ACTTAAGTGTCTTATCTATCTATAGATAGAAAAGTCGCTTTTTAGA...   \n",
       "2  AGTAAAGTGAGTGTAGCGTGGCTATATCTCTTCTTTTACTTTAACT...   \n",
       "3  AAGTGTCGTGCTCCTAGGGGTTGCACTTGACGTGTTCCGTCACGTA...   \n",
       "4  GGCCCCCATGGCTAGCAACCGTATTTCGTTGGCTTTTGCCAATGAT...   \n",
       "\n",
       "                                              id  \\\n",
       "0                  acc|REFSEQ|NC_030292.1|Ferret   \n",
       "1                   acc|REFSEQ|NC_028752.1|Camel   \n",
       "2                   acc|REFSEQ|NC_028806.1|Swine   \n",
       "3   acc|REFSEQ|NC_028824.1|BtRf-AlphaCoV_YN2012,   \n",
       "4  acc|REFSEQ|NC_028814.1|BtRf-AlphaCoV_HuB2013,   \n",
       "\n",
       "                                         description  label    accession  \n",
       "0  acc|REFSEQ|NC_030292.1|Ferret coronavirus isol...      0  NC_030292.1  \n",
       "1  acc|REFSEQ|NC_028752.1|Camel alphacoronavirus ...      1  NC_028752.1  \n",
       "2  acc|REFSEQ|NC_028806.1|Swine enteric coronavir...      1  NC_028806.1  \n",
       "3  acc|REFSEQ|NC_028824.1|BtRf-AlphaCoV_YN2012, a...      0  NC_028824.1  \n",
       "4  acc|REFSEQ|NC_028814.1|BtRf-AlphaCoV_HuB2013, ...      1  NC_028814.1  "
      ]
     },
     "execution_count": 25,
     "metadata": {},
     "output_type": "execute_result"
    }
   ],
   "source": [
    "cleaned_path = os.path.join(rvdb14.data_path, 'RVDB14_complete_coronavirus_fixed.fasta.csv')\n",
    "\n",
    "cleaned_df = pd.read_csv(cleaned_path, dtype={'label':int})\n",
    "# remove nans\n",
    "cleaned_df.dropna(inplace=True)\n",
    "\n",
    "# remove artifacts\n",
    "for index, row in cleaned_df.iterrows():\n",
    "    if row['label'] < 0:\n",
    "        cleaned_df.drop(index, inplace=True)\n",
    "cleanded_df = cleaned_df[cleaned_df['label'] >= 0]\n",
    "cleaned_df.head()"
   ]
  },
  {
   "cell_type": "code",
   "execution_count": 26,
   "metadata": {},
   "outputs": [
    {
     "data": {
      "text/plain": [
       "<matplotlib.axes._subplots.AxesSubplot at 0x7f7a0ea51a90>"
      ]
     },
     "execution_count": 26,
     "metadata": {},
     "output_type": "execute_result"
    },
    {
     "data": {
      "image/png": "[encoded data removed]",
      "text/plain": [
       "<Figure size 432x288 with 1 Axes>"
      ]
     },
     "metadata": {
      "needs_background": "light"
     },
     "output_type": "display_data"
    }
   ],
   "source": [
    "cleaned_df['label'].plot()"
   ]
  },
  {
   "cell_type": "code",
   "execution_count": 27,
   "metadata": {},
   "outputs": [
    {
     "data": {
      "text/plain": [
       "array([0, 1])"
      ]
     },
     "execution_count": 27,
     "metadata": {},
     "output_type": "execute_result"
    }
   ],
   "source": [
    "cleaned_df['label'].unique()"
   ]
  },
  {
   "cell_type": "code",
   "execution_count": 28,
   "metadata": {},
   "outputs": [
    {
     "name": "stdout",
     "output_type": "stream",
     "text": [
      "Sequence length - max:31775, min:25320\n"
     ]
    }
   ],
   "source": [
    "# min and max length of sequences\n",
    "max_len = max(len(s) for s in cleaned_df['seq'])\n",
    "min_len =min(len(s) for s in cleaned_df['seq'])\n",
    "print(f\"Sequence length - max:{max_len}, min:{min_len}\")"
   ]
  },
  {
   "cell_type": "code",
   "execution_count": 29,
   "metadata": {},
   "outputs": [
    {
     "data": {
      "text/plain": [
       "[<matplotlib.lines.Line2D at 0x7f7a0ea26898>]"
      ]
     },
     "execution_count": 29,
     "metadata": {},
     "output_type": "execute_result"
    },
    {
     "data": {
      "image/png": "[encoded data removed]",
      "text/plain": [
       "<Figure size 432x288 with 1 Axes>"
      ]
     },
     "metadata": {
      "needs_background": "light"
     },
     "output_type": "display_data"
    }
   ],
   "source": [
    "plt.plot([len(s) for s in cleaned_df['seq']])"
   ]
  },
  {
   "cell_type": "code",
   "execution_count": 30,
   "metadata": {},
   "outputs": [
    {
     "data": {
      "text/plain": [
       "13"
      ]
     },
     "execution_count": 30,
     "metadata": {},
     "output_type": "execute_result"
    }
   ],
   "source": [
    "# find letter representations\n",
    "letters = []\n",
    "[letters.extend(list(i)) for i in  cleaned_df['seq']]\n",
    "len_letters = len(set(letters))\n",
    "len_letters"
   ]
  },
  {
   "cell_type": "markdown",
   "metadata": {},
   "source": [
    "# deep learning with convolutional neural nets"
   ]
  },
  {
   "cell_type": "code",
   "execution_count": 31,
   "metadata": {},
   "outputs": [
    {
     "name": "stdout",
     "output_type": "stream",
     "text": [
      "[[0 1 9 ... 1 9 9]\n",
      " [0 1 9 ... 0 1 9]\n",
      " [0 3 9 ... 0 1 0]\n",
      " ...\n",
      " [3 0 9 ... 0 9 9]\n",
      " [3 0 9 ... 0 9 9]\n",
      " [3 0 9 ... 3 0 3]]\n",
      "Example sequence\n",
      "-----------------------\n",
      "nucleotude Sequence #1:\n",
      " ACTTTTAAAG ... TGCCAGACTT\n",
      "One hot encoding of Sequence #1:\n",
      " [[1. 0. 0. ... 0. 0. 0.]\n",
      " [0. 1. 0. ... 1. 0. 0.]\n",
      " [0. 0. 0. ... 0. 0. 0.]\n",
      " ...\n",
      " [0. 0. 0. ... 0. 0. 0.]\n",
      " [0. 0. 0. ... 0. 0. 0.]\n",
      " [0. 0. 0. ... 0. 0. 0.]]\n"
     ]
    }
   ],
   "source": [
    "from sklearn.preprocessing import LabelEncoder, OneHotEncoder\n",
    "from numpy import array\n",
    "\n",
    "# The LabelEncoder encodes a sequence of residues as a sequence of integers.\n",
    "integer_encoder = LabelEncoder()\n",
    "# The OneHotEncoder converts an array of integers to a sparse matrix where \n",
    "# each row corresponds to one possible value of each feature.\n",
    "one_hot_encoder = OneHotEncoder(categories='auto')\n",
    "\n",
    "#fit one-hot encorder with all neucleotides\n",
    "integer_cat_arr = np.array(list(range(len_letters))).reshape(-1, 1)\n",
    "one_hot_encoder = one_hot_encoder.fit(integer_cat_arr)\n",
    "sequences = [i[:min_len] for i in cleaned_df['seq']]\n",
    "\n",
    "#fit the label encoder with all the nucleotides\n",
    "integer_encoder = integer_encoder.fit(list(''.join(sequences)))\n",
    "input_features = []\n",
    "int_encoded = [] # for LSTM\n",
    "\n",
    "for sequence in sequences:\n",
    "  integer_encoded = integer_encoder.transform(list(sequence))\n",
    "  int_encoded.append(integer_encoded)\n",
    "  integer_encoded = np.array(integer_encoded).reshape(-1, 1)\n",
    "  one_hot_encoded = one_hot_encoder.transform(integer_encoded)\n",
    "  input_features.append(one_hot_encoded.toarray())\n",
    "\n",
    "int_encoded = array(int_encoded)\n",
    "print(int_encoded)\n",
    "np.set_printoptions(threshold=40)\n",
    "input_features = np.stack(input_features)\n",
    "print(\"Example sequence\\n-----------------------\")\n",
    "print('nucleotude Sequence #1:\\n',sequences[0][:10],'...',sequences[0][-10:])\n",
    "print('One hot encoding of Sequence #1:\\n',input_features[0].T)"
   ]
  },
  {
   "cell_type": "code",
   "execution_count": 32,
   "metadata": {},
   "outputs": [
    {
     "name": "stdout",
     "output_type": "stream",
     "text": [
      "Labels:\n",
      " [[0 1 1 ... 1 0 0]]\n",
      "One-hot encoded labels:\n",
      " [[1. 0. 0. ... 0. 1. 1.]\n",
      " [0. 1. 1. ... 1. 0. 0.]]\n"
     ]
    },
    {
     "data": {
      "text/plain": [
       "(2206, 2)"
      ]
     },
     "execution_count": 32,
     "metadata": {},
     "output_type": "execute_result"
    }
   ],
   "source": [
    "one_hot_encoder = OneHotEncoder(categories='auto')\n",
    "labels = np.array(cleaned_df['label']).reshape(-1, 1)\n",
    "input_labels = one_hot_encoder.fit_transform(labels).toarray()\n",
    "\n",
    "print('Labels:\\n',labels.T)\n",
    "print('One-hot encoded labels:\\n',input_labels.T)\n",
    "input_labels.shape"
   ]
  },
  {
   "cell_type": "code",
   "execution_count": 33,
   "metadata": {},
   "outputs": [],
   "source": [
    "from sklearn.model_selection import train_test_split\n",
    "\n",
    "train_features, test_features, train_labels, test_labels = train_test_split(\n",
    "    input_features, input_labels, test_size=0.2, random_state=42)"
   ]
  },
  {
   "cell_type": "code",
   "execution_count": 34,
   "metadata": {},
   "outputs": [
    {
     "name": "stdout",
     "output_type": "stream",
     "text": [
      "Model: \"sequential\"\n",
      "_________________________________________________________________\n",
      "Layer (type)                 Output Shape              Param #   \n",
      "=================================================================\n",
      "conv1d (Conv1D)              (None, 25318, 32)         1280      \n",
      "_________________________________________________________________\n",
      "max_pooling1d (MaxPooling1D) (None, 6329, 32)          0         \n",
      "_________________________________________________________________\n",
      "flatten (Flatten)            (None, 202528)            0         \n",
      "_________________________________________________________________\n",
      "dense (Dense)                (None, 16)                3240464   \n",
      "_________________________________________________________________\n",
      "dense_1 (Dense)              (None, 2)                 34        \n",
      "=================================================================\n",
      "Total params: 3,241,778\n",
      "Trainable params: 3,241,778\n",
      "Non-trainable params: 0\n",
      "_________________________________________________________________\n"
     ]
    }
   ],
   "source": [
    "from tensorflow.keras.layers import Conv1D, Dense, MaxPooling1D, Flatten\n",
    "from tensorflow.keras.models import Sequential\n",
    "\n",
    "model = Sequential()\n",
    "model.add(Conv1D(filters=32, kernel_size=3,input_shape=(train_features.shape[1], 13)))\n",
    "model.add(MaxPooling1D(pool_size=4))\n",
    "model.add(Flatten())\n",
    "model.add(Dense(16, activation='relu'))\n",
    "model.add(Dense(2, activation='softmax'))\n",
    "\n",
    "model.compile(loss='binary_crossentropy', optimizer='adam', metrics=['binary_accuracy'])\n",
    "model.summary()"
   ]
  },
  {
   "cell_type": "code",
   "execution_count": 35,
   "metadata": {},
   "outputs": [
    {
     "data": {
      "image/png": "[encoded data removed]",
      "text/plain": [
       "<Figure size 432x288 with 1 Axes>"
      ]
     },
     "metadata": {
      "needs_background": "light"
     },
     "output_type": "display_data"
    }
   ],
   "source": [
    "history = model.fit(train_features, train_labels, epochs=25, verbose=0, validation_split=0.25, shuffle=True)\n",
    "\n",
    "plt.figure()\n",
    "plt.plot(history.history['loss'])\n",
    "plt.plot(history.history['val_loss'])\n",
    "plt.title('model loss')\n",
    "plt.ylabel('loss')\n",
    "plt.xlabel('epoch')\n",
    "plt.legend(['train', 'validation'])\n",
    "plt.show()"
   ]
  },
  {
   "cell_type": "code",
   "execution_count": 48,
   "metadata": {},
   "outputs": [
    {
     "data": {
      "image/png": "[encoded data removed]",
      "text/plain": [
       "<Figure size 432x288 with 1 Axes>"
      ]
     },
     "metadata": {
      "needs_background": "light"
     },
     "output_type": "display_data"
    }
   ],
   "source": [
    "plt.figure()\n",
    "plt.plot(history.history['binary_accuracy'])\n",
    "plt.plot(history.history['val_binary_accuracy'])\n",
    "plt.title('model accuracy')\n",
    "plt.ylabel('accuracy')\n",
    "plt.xlabel('epoch')\n",
    "plt.legend(['train', 'validation'])\n",
    "plt.show()"
   ]
  },
  {
   "cell_type": "code",
   "execution_count": null,
   "metadata": {},
   "outputs": [],
   "source": [
    "from sklearn.metrics import confusion_matrix\n",
    "import itertools\n",
    "\n",
    "predicted_labels = model.predict(np.stack(test_features))\n",
    "cm = confusion_matrix(np.argmax(test_labels, axis=1), \n",
    "                      np.argmax(predicted_labels, axis=1))\n",
    "print('Confusion matrix:\\n',cm)\n",
    "\n",
    "cm = cm.astype('float') / cm.sum(axis = 1)[:, np.newaxis]\n",
    "\n",
    "plt.imshow(cm, cmap=plt.cm.Blues)\n",
    "plt.title('Normalized confusion matrix')\n",
    "plt.colorbar()\n",
    "plt.xlabel('True label')\n",
    "plt.ylabel('Predicted label')\n",
    "plt.xticks([0, 1]); plt.yticks([0, 1])\n",
    "plt.grid('off')\n",
    "for i, j in itertools.product(range(cm.shape[0]), range(cm.shape[1])):\n",
    "    plt.text(j, i, format(cm[i, j], '.2f'),\n",
    "             horizontalalignment='center',\n",
    "             color='white' if cm[i, j] > 0.5 else 'black')"
   ]
  },
  {
   "cell_type": "code",
   "execution_count": 42,
   "metadata": {},
   "outputs": [
    {
     "name": "stdout",
     "output_type": "stream",
     "text": [
      "Num GPUs Available:  0\n"
     ]
    }
   ],
   "source": [
    "import tensorflow as tf\n",
    "print(\"Num GPUs Available: \", len(tf.config.experimental.list_physical_devices('GPU')))"
   ]
  },
  {
   "cell_type": "code",
   "execution_count": 47,
   "metadata": {},
   "outputs": [
    {
     "data": {
      "text/plain": [
       "'2.1.0'"
      ]
     },
     "execution_count": 47,
     "metadata": {},
     "output_type": "execute_result"
    }
   ],
   "source": [
    "tf.__version__"
   ]
  },
  {
   "cell_type": "code",
   "execution_count": 45,
   "metadata": {},
   "outputs": [
    {
     "data": {
      "text/plain": [
       "[]"
      ]
     },
     "execution_count": 45,
     "metadata": {},
     "output_type": "execute_result"
    }
   ],
   "source": [
    "tf.config.list_physical_devices('GPU')"
   ]
  },
  {
   "cell_type": "code",
   "execution_count": 46,
   "metadata": {},
   "outputs": [
    {
     "ename": "AttributeError",
     "evalue": "module 'tensorflow_core._api.v2.config' has no attribute 'experimental_list_devices'",
     "output_type": "error",
     "traceback": [
      "\u001b[0;31m---------------------------------------------------------------------------\u001b[0m",
      "\u001b[0;31mAttributeError\u001b[0m                            Traceback (most recent call last)",
      "\u001b[0;32m<ipython-input-46-3d00d838479b>\u001b[0m in \u001b[0;36m<module>\u001b[0;34m\u001b[0m\n\u001b[1;32m      1\u001b[0m \u001b[0;32mfrom\u001b[0m \u001b[0mkeras\u001b[0m \u001b[0;32mimport\u001b[0m \u001b[0mbackend\u001b[0m \u001b[0;32mas\u001b[0m \u001b[0mK\u001b[0m\u001b[0;34m\u001b[0m\u001b[0;34m\u001b[0m\u001b[0m\n\u001b[0;32m----> 2\u001b[0;31m \u001b[0mK\u001b[0m\u001b[0;34m.\u001b[0m\u001b[0mtensorflow_backend\u001b[0m\u001b[0;34m.\u001b[0m\u001b[0m_get_available_gpus\u001b[0m\u001b[0;34m(\u001b[0m\u001b[0;34m)\u001b[0m\u001b[0;34m\u001b[0m\u001b[0;34m\u001b[0m\u001b[0m\n\u001b[0m",
      "\u001b[0;32m~/Projects/covid_bh_ml/lib/python3.6/site-packages/keras/backend/tensorflow_backend.py\u001b[0m in \u001b[0;36m_get_available_gpus\u001b[0;34m()\u001b[0m\n\u001b[1;32m    504\u001b[0m             \u001b[0m_LOCAL_DEVICES\u001b[0m \u001b[0;34m=\u001b[0m \u001b[0;34m[\u001b[0m\u001b[0mx\u001b[0m\u001b[0;34m.\u001b[0m\u001b[0mname\u001b[0m \u001b[0;32mfor\u001b[0m \u001b[0mx\u001b[0m \u001b[0;32min\u001b[0m \u001b[0mdevices\u001b[0m\u001b[0;34m]\u001b[0m\u001b[0;34m\u001b[0m\u001b[0;34m\u001b[0m\u001b[0m\n\u001b[1;32m    505\u001b[0m         \u001b[0;32melse\u001b[0m\u001b[0;34m:\u001b[0m\u001b[0;34m\u001b[0m\u001b[0;34m\u001b[0m\u001b[0m\n\u001b[0;32m--> 506\u001b[0;31m             \u001b[0m_LOCAL_DEVICES\u001b[0m \u001b[0;34m=\u001b[0m \u001b[0mtf\u001b[0m\u001b[0;34m.\u001b[0m\u001b[0mconfig\u001b[0m\u001b[0;34m.\u001b[0m\u001b[0mexperimental_list_devices\u001b[0m\u001b[0;34m(\u001b[0m\u001b[0;34m)\u001b[0m\u001b[0;34m\u001b[0m\u001b[0;34m\u001b[0m\u001b[0m\n\u001b[0m\u001b[1;32m    507\u001b[0m     \u001b[0;32mreturn\u001b[0m \u001b[0;34m[\u001b[0m\u001b[0mx\u001b[0m \u001b[0;32mfor\u001b[0m \u001b[0mx\u001b[0m \u001b[0;32min\u001b[0m \u001b[0m_LOCAL_DEVICES\u001b[0m \u001b[0;32mif\u001b[0m \u001b[0;34m'device:gpu'\u001b[0m \u001b[0;32min\u001b[0m \u001b[0mx\u001b[0m\u001b[0;34m.\u001b[0m\u001b[0mlower\u001b[0m\u001b[0;34m(\u001b[0m\u001b[0;34m)\u001b[0m\u001b[0;34m]\u001b[0m\u001b[0;34m\u001b[0m\u001b[0;34m\u001b[0m\u001b[0m\n\u001b[1;32m    508\u001b[0m \u001b[0;34m\u001b[0m\u001b[0m\n",
      "\u001b[0;31mAttributeError\u001b[0m: module 'tensorflow_core._api.v2.config' has no attribute 'experimental_list_devices'"
     ]
    }
   ],
   "source": []
  },
  {
   "cell_type": "code",
   "execution_count": null,
   "metadata": {},
   "outputs": [],
   "source": []
  }
 ],
 "metadata": {
  "kernelspec": {
   "display_name": "Python 3",
   "language": "python",
   "name": "python3"
  },
  "language_info": {
   "codemirror_mode": {
    "name": "ipython",
    "version": 3
   },
   "file_extension": ".py",
   "mimetype": "text/x-python",
   "name": "python",
   "nbconvert_exporter": "python",
   "pygments_lexer": "ipython3",
   "version": "3.6.9"
  }
 },
 "nbformat": 4,
 "nbformat_minor": 2
}
