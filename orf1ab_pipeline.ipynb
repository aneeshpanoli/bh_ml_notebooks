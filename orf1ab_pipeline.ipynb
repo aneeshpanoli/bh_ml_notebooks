{
 "cells": [
  {
   "cell_type": "code",
   "execution_count": 1,
   "metadata": {},
   "outputs": [
    {
     "name": "stderr",
     "output_type": "stream",
     "text": [
      "/home/aneesh/Projects/covid_bh_ml/lib/python3.6/site-packages/sklearn/utils/deprecation.py:144: FutureWarning: The sklearn.metrics.scorer module is  deprecated in version 0.22 and will be removed in version 0.24. The corresponding classes / functions should instead be imported from sklearn.metrics. Anything that cannot be imported from sklearn.metrics is now part of the private API.\n",
      "  warnings.warn(message, FutureWarning)\n",
      "/home/aneesh/Projects/covid_bh_ml/lib/python3.6/site-packages/sklearn/utils/deprecation.py:144: FutureWarning: The sklearn.feature_selection.base module is  deprecated in version 0.22 and will be removed in version 0.24. The corresponding classes / functions should instead be imported from sklearn.feature_selection. Anything that cannot be imported from sklearn.feature_selection is now part of the private API.\n",
      "  warnings.warn(message, FutureWarning)\n",
      "Using TensorFlow backend.\n"
     ]
    }
   ],
   "source": [
    "import sklearn\n",
    "import numpy as np\n",
    "import xgboost as xgb\n",
    "from sklearn.model_selection import train_test_split\n",
    "from sklearn.feature_extraction.text import TfidfVectorizer, CountVectorizer\n",
    "from sklearn.cluster import MiniBatchKMeans\n",
    "import matplotlib.pyplot as plt\n",
    "from eli5 import show_weights, show_prediction\n",
    "from xgboost import plot_importance\n",
    "import seaborn as sns\n",
    "from sklearn.manifold import TSNE\n",
    "from collections import defaultdict\n",
    "\n",
    "#custom\n",
    "from py.helper import DataProcessing\n",
    "from py.ml_metrics import plot_confusion_matrix\n",
    "from sklearn.metrics import silhouette_score\n",
    "from sklearn.cluster import KMeans\n",
    "\n",
    "#global\n",
    "sns.set(rc={'figure.figsize':(15,15)})"
   ]
  },
  {
   "cell_type": "code",
   "execution_count": 2,
   "metadata": {},
   "outputs": [],
   "source": [
    "# set K-mer length here\n",
    "kmer = 4"
   ]
  },
  {
   "cell_type": "code",
   "execution_count": 3,
   "metadata": {},
   "outputs": [],
   "source": [
    "orf1 = DataProcessing('coronavirus_orf1ab.fasta', 'coronavirus_orf1ab_meta.csv')"
   ]
  },
  {
   "cell_type": "code",
   "execution_count": 4,
   "metadata": {},
   "outputs": [
    {
     "name": "stdout",
     "output_type": "stream",
     "text": [
      "(3046, 13)\n",
      "(2384, 13)\n"
     ]
    },
    {
     "data": {
      "text/html": [
       "<div>\n",
       "<style scoped>\n",
       "    .dataframe tbody tr th:only-of-type {\n",
       "        vertical-align: middle;\n",
       "    }\n",
       "\n",
       "    .dataframe tbody tr th {\n",
       "        vertical-align: top;\n",
       "    }\n",
       "\n",
       "    .dataframe thead th {\n",
       "        text-align: right;\n",
       "    }\n",
       "</style>\n",
       "<table border=\"1\" class=\"dataframe\">\n",
       "  <thead>\n",
       "    <tr style=\"text-align: right;\">\n",
       "      <th></th>\n",
       "      <th>Accession</th>\n",
       "      <th>Release_Date</th>\n",
       "      <th>Species</th>\n",
       "      <th>Length</th>\n",
       "      <th>Geo_Location</th>\n",
       "      <th>Host</th>\n",
       "      <th>Isolation_Source</th>\n",
       "      <th>Collection_Date</th>\n",
       "      <th>GenBank_Title</th>\n",
       "      <th>seq_offset_0</th>\n",
       "      <th>seq_offset_1</th>\n",
       "      <th>seq_offset_2</th>\n",
       "      <th>seq_offset_3</th>\n",
       "    </tr>\n",
       "  </thead>\n",
       "  <tbody>\n",
       "    <tr>\n",
       "      <th>1</th>\n",
       "      <td>YP_009555238</td>\n",
       "      <td>2019-02-21T00:00:00Z</td>\n",
       "      <td>Betacoronavirus 1</td>\n",
       "      <td>7095</td>\n",
       "      <td>USA</td>\n",
       "      <td>NaN</td>\n",
       "      <td>NaN</td>\n",
       "      <td>NaN</td>\n",
       "      <td>Orf1ab [Human coronavirus OC43]</td>\n",
       "      <td>MSKINKYGLELHWAPEFPWMFEDAEEKLDNPSSSEVDMICSTTAQK...</td>\n",
       "      <td>SKINKYGLELHWAPEFPWMFEDAEEKLDNPSSSEVDMICSTTAQKL...</td>\n",
       "      <td>KINKYGLELHWAPEFPWMFEDAEEKLDNPSSSEVDMICSTTAQKLE...</td>\n",
       "      <td>INKYGLELHWAPEFPWMFEDAEEKLDNPSSSEVDMICSTTAQKLET...</td>\n",
       "    </tr>\n",
       "    <tr>\n",
       "      <th>2</th>\n",
       "      <td>YP_002308478</td>\n",
       "      <td>2018-08-24T00:00:00Z</td>\n",
       "      <td>Bulbul coronavirus HKU11</td>\n",
       "      <td>6264</td>\n",
       "      <td>Hong Kong</td>\n",
       "      <td>Pycnonotus jocosus</td>\n",
       "      <td>NaN</td>\n",
       "      <td>2007-01</td>\n",
       "      <td>orf1ab polyprotein [Bulbul coronavirus HKU11-934]</td>\n",
       "      <td>MVKNVSKRSPIVLPQIQPPPLQLFIAVAAAEEGHPKDLKYLGNYNL...</td>\n",
       "      <td>VKNVSKRSPIVLPQIQPPPLQLFIAVAAAEEGHPKDLKYLGNYNLV...</td>\n",
       "      <td>KNVSKRSPIVLPQIQPPPLQLFIAVAAAEEGHPKDLKYLGNYNLVT...</td>\n",
       "      <td>NVSKRSPIVLPQIQPPPLQLFIAVAAAEEGHPKDLKYLGNYNLVTS...</td>\n",
       "    </tr>\n",
       "    <tr>\n",
       "      <th>3</th>\n",
       "      <td>YP_009513008</td>\n",
       "      <td>2018-08-24T00:00:00Z</td>\n",
       "      <td>Hedgehog coronavirus 1</td>\n",
       "      <td>7150</td>\n",
       "      <td>Germany</td>\n",
       "      <td>Erinaceus europaeus</td>\n",
       "      <td>feces</td>\n",
       "      <td>2012</td>\n",
       "      <td>orf1ab [Betacoronavirus Erinaceus/VMC/DEU/2012]</td>\n",
       "      <td>MSSATGEGSQGARATYRAALNNEKRHDHVALTVPCCGTEAKVTALS...</td>\n",
       "      <td>SSATGEGSQGARATYRAALNNEKRHDHVALTVPCCGTEAKVTALSP...</td>\n",
       "      <td>SATGEGSQGARATYRAALNNEKRHDHVALTVPCCGTEAKVTALSPW...</td>\n",
       "      <td>ATGEGSQGARATYRAALNNEKRHDHVALTVPCCGTEAKVTALSPWF...</td>\n",
       "    </tr>\n",
       "    <tr>\n",
       "      <th>4</th>\n",
       "      <td>YP_009513020</td>\n",
       "      <td>2018-08-24T00:00:00Z</td>\n",
       "      <td>Coronavirus HKU15</td>\n",
       "      <td>6267</td>\n",
       "      <td>China: Hong Kong</td>\n",
       "      <td>Sus scrofa</td>\n",
       "      <td>NaN</td>\n",
       "      <td>2010</td>\n",
       "      <td>replicase polyprotein [Porcine coronavirus HKU15]</td>\n",
       "      <td>MAKNKSKRDAIALPENVPPPLQLFIHVAAAEEGHPKVTTYLGNYNL...</td>\n",
       "      <td>AKNKSKRDAIALPENVPPPLQLFIHVAAAEEGHPKVTTYLGNYNLY...</td>\n",
       "      <td>KNKSKRDAIALPENVPPPLQLFIHVAAAEEGHPKVTTYLGNYNLYA...</td>\n",
       "      <td>NKSKRDAIALPENVPPPLQLFIHVAAAEEGHPKVTTYLGNYNLYAT...</td>\n",
       "    </tr>\n",
       "    <tr>\n",
       "      <th>5</th>\n",
       "      <td>YP_009389424</td>\n",
       "      <td>2017-07-14T00:00:00Z</td>\n",
       "      <td>Wencheng Sm shrew coronavirus</td>\n",
       "      <td>6324</td>\n",
       "      <td>China</td>\n",
       "      <td>Suncus murinus</td>\n",
       "      <td>NaN</td>\n",
       "      <td>2015</td>\n",
       "      <td>ORF1ab polyprotein [Wencheng Sm shrew coronavi...</td>\n",
       "      <td>MSVSKVELFVPISDEVDATHFGTFGDAVEAYASAAPSFEGVYFVAY...</td>\n",
       "      <td>SVSKVELFVPISDEVDATHFGTFGDAVEAYASAAPSFEGVYFVAYG...</td>\n",
       "      <td>VSKVELFVPISDEVDATHFGTFGDAVEAYASAAPSFEGVYFVAYGL...</td>\n",
       "      <td>SKVELFVPISDEVDATHFGTFGDAVEAYASAAPSFEGVYFVAYGLQ...</td>\n",
       "    </tr>\n",
       "  </tbody>\n",
       "</table>\n",
       "</div>"
      ],
      "text/plain": [
       "      Accession          Release_Date                        Species  Length  \\\n",
       "1  YP_009555238  2019-02-21T00:00:00Z              Betacoronavirus 1    7095   \n",
       "2  YP_002308478  2018-08-24T00:00:00Z       Bulbul coronavirus HKU11    6264   \n",
       "3  YP_009513008  2018-08-24T00:00:00Z         Hedgehog coronavirus 1    7150   \n",
       "4  YP_009513020  2018-08-24T00:00:00Z              Coronavirus HKU15    6267   \n",
       "5  YP_009389424  2017-07-14T00:00:00Z  Wencheng Sm shrew coronavirus    6324   \n",
       "\n",
       "       Geo_Location                 Host Isolation_Source Collection_Date  \\\n",
       "1               USA                  NaN              NaN             NaN   \n",
       "2         Hong Kong   Pycnonotus jocosus              NaN         2007-01   \n",
       "3           Germany  Erinaceus europaeus            feces            2012   \n",
       "4  China: Hong Kong           Sus scrofa              NaN            2010   \n",
       "5             China       Suncus murinus              NaN            2015   \n",
       "\n",
       "                                       GenBank_Title  \\\n",
       "1                    Orf1ab [Human coronavirus OC43]   \n",
       "2  orf1ab polyprotein [Bulbul coronavirus HKU11-934]   \n",
       "3    orf1ab [Betacoronavirus Erinaceus/VMC/DEU/2012]   \n",
       "4  replicase polyprotein [Porcine coronavirus HKU15]   \n",
       "5  ORF1ab polyprotein [Wencheng Sm shrew coronavi...   \n",
       "\n",
       "                                        seq_offset_0  \\\n",
       "1  MSKINKYGLELHWAPEFPWMFEDAEEKLDNPSSSEVDMICSTTAQK...   \n",
       "2  MVKNVSKRSPIVLPQIQPPPLQLFIAVAAAEEGHPKDLKYLGNYNL...   \n",
       "3  MSSATGEGSQGARATYRAALNNEKRHDHVALTVPCCGTEAKVTALS...   \n",
       "4  MAKNKSKRDAIALPENVPPPLQLFIHVAAAEEGHPKVTTYLGNYNL...   \n",
       "5  MSVSKVELFVPISDEVDATHFGTFGDAVEAYASAAPSFEGVYFVAY...   \n",
       "\n",
       "                                        seq_offset_1  \\\n",
       "1  SKINKYGLELHWAPEFPWMFEDAEEKLDNPSSSEVDMICSTTAQKL...   \n",
       "2  VKNVSKRSPIVLPQIQPPPLQLFIAVAAAEEGHPKDLKYLGNYNLV...   \n",
       "3  SSATGEGSQGARATYRAALNNEKRHDHVALTVPCCGTEAKVTALSP...   \n",
       "4  AKNKSKRDAIALPENVPPPLQLFIHVAAAEEGHPKVTTYLGNYNLY...   \n",
       "5  SVSKVELFVPISDEVDATHFGTFGDAVEAYASAAPSFEGVYFVAYG...   \n",
       "\n",
       "                                        seq_offset_2  \\\n",
       "1  KINKYGLELHWAPEFPWMFEDAEEKLDNPSSSEVDMICSTTAQKLE...   \n",
       "2  KNVSKRSPIVLPQIQPPPLQLFIAVAAAEEGHPKDLKYLGNYNLVT...   \n",
       "3  SATGEGSQGARATYRAALNNEKRHDHVALTVPCCGTEAKVTALSPW...   \n",
       "4  KNKSKRDAIALPENVPPPLQLFIHVAAAEEGHPKVTTYLGNYNLYA...   \n",
       "5  VSKVELFVPISDEVDATHFGTFGDAVEAYASAAPSFEGVYFVAYGL...   \n",
       "\n",
       "                                        seq_offset_3  \n",
       "1  INKYGLELHWAPEFPWMFEDAEEKLDNPSSSEVDMICSTTAQKLET...  \n",
       "2  NVSKRSPIVLPQIQPPPLQLFIAVAAAEEGHPKDLKYLGNYNLVTS...  \n",
       "3  ATGEGSQGARATYRAALNNEKRHDHVALTVPCCGTEAKVTALSPWF...  \n",
       "4  NKSKRDAIALPENVPPPLQLFIHVAAAEEGHPKVTTYLGNYNLYAT...  \n",
       "5  SKVELFVPISDEVDATHFGTFGDAVEAYASAAPSFEGVYFVAYGLQ...  "
      ]
     },
     "execution_count": 4,
     "metadata": {},
     "output_type": "execute_result"
    }
   ],
   "source": [
    "#this will take a while\n",
    "# kmers = orf1.get_amino_kmer_df(4)\n",
    "amino_df = orf1.get_amino_df(4, 'csv')\n",
    "print(amino_df.shape)\n",
    "amino_df.drop_duplicates(subset='Accession', keep=False, inplace=True)\n",
    "print(amino_df.shape)\n",
    "amino_df.head()"
   ]
  },
  {
   "cell_type": "markdown",
   "metadata": {},
   "source": [
    "Split the data"
   ]
  },
  {
   "cell_type": "code",
   "execution_count": 5,
   "metadata": {},
   "outputs": [
    {
     "name": "stdout",
     "output_type": "stream",
     "text": [
      "Size of the test df: 495. Size of the tain df: 1889.\n"
     ]
    }
   ],
   "source": [
    "#split dataframe\n",
    "mask = np.random.rand(len(amino_df)) < 0.8\n",
    "train_df = amino_df[mask]\n",
    "test_df = amino_df[~mask]\n",
    "print(f'Size of the test df: {len(test_df)}. Size of the tain df: {len(train_df)}.')"
   ]
  },
  {
   "cell_type": "code",
   "execution_count": 6,
   "metadata": {},
   "outputs": [],
   "source": [
    "#split\n",
    "xtrain = train_df['seq_offset_0'].values\n",
    "xtest = test_df['seq_offset_0'].values"
   ]
  },
  {
   "cell_type": "code",
   "execution_count": 7,
   "metadata": {},
   "outputs": [],
   "source": [
    "\n",
    "def count_vectorize(kmer, xtest, xtrain):#vectorize\n",
    "    ctv = CountVectorizer(analyzer='char', ngram_range=(kmer, kmer), lowercase=False) # kmer: k-mer length\n",
    "\n",
    "    ctv.fit(list(xtrain)+list(xtest))\n",
    "    xtrain_ctv = ctv.transform(xtrain)\n",
    "    xtest_ctv = ctv.transform(xtest)\n",
    "    return xtrain_ctv, xtest_ctv"
   ]
  },
  {
   "cell_type": "code",
   "execution_count": 8,
   "metadata": {},
   "outputs": [],
   "source": [
    "\n",
    "def calculate_silhouette(xtrain_ctv, kmax):\n",
    "    sil = []\n",
    "    # dissimilarity would not be defined for a single cluster, thus, minimum number of clusters should be 2\n",
    "    for k in range(2, kmax+1):\n",
    "      kmeans = KMeans(n_clusters = k).fit(xtrain_ctv)\n",
    "      labels = kmeans.labels_\n",
    "      sil.append(silhouette_score(xtrain_ctv, labels, metric = 'euclidean'))\n",
    "    return sil"
   ]
  },
  {
   "cell_type": "code",
   "execution_count": 29,
   "metadata": {},
   "outputs": [],
   "source": [
    "# function returns WSS score for k values from 1 to kmax\n",
    "def calculate_WSS_silhouette(xtrain_ctv, kmax):\n",
    "    sse = [] #wss\n",
    "    sil = [] \n",
    "    for k in range(2, kmax+1):\n",
    "        kmeans = KMeans(n_clusters = k).fit(xtrain_ctv)\n",
    "        centroids = kmeans.cluster_centers_\n",
    "        pred_clusters = kmeans.predict(xtrain_ctv)\n",
    "        curr_sse = 0\n",
    "\n",
    "        # calculate square of Euclidean distance of each point from its cluster center and add to current WSS\n",
    "        for i in range(xtrain_ctv.shape[0]):\n",
    "            curr_center = centroids[pred_clusters[i]]\n",
    "            curr_sse += (xtrain_ctv[i, 0] - curr_center[0]) ** 2 + (xtrain_ctv[i, 1] - curr_center[1]) ** 2\n",
    "        sse.append(curr_sse)\n",
    "        \n",
    "        #calculate silhouette\n",
    "        labels = kmeans.labels_\n",
    "        sil.append(silhouette_score(xtrain_ctv, labels, metric = 'euclidean'))\n",
    "    return sse, sil\n",
    "\n"
   ]
  },
  {
   "cell_type": "code",
   "execution_count": null,
   "metadata": {},
   "outputs": [],
   "source": [
    "kmax = 10\n",
    "sil_scores = defaultdict(list)\n",
    "elbow_scores = defaultdict(list)\n",
    "kmer_max = 100\n",
    "for i in range(1, kmer_max):\n",
    "    xtrain_ctv, _ = count_vectorize(i, xtest, xtrain)\n",
    "    elbow, sil = calculate_WSS_silhouette(xtrain_ctv, kmax)\n",
    "    sil_scores[i].append(sil)\n",
    "    elbow_scores[i].append(elbow)\n"
   ]
  },
  {
   "cell_type": "code",
   "execution_count": 33,
   "metadata": {},
   "outputs": [
    {
     "data": {
      "text/plain": [
       "defaultdict(list,\n",
       "            {1: [[0.45619357014968104,\n",
       "               0.5041712880772967,\n",
       "               0.5827516501116515,\n",
       "               0.6448596382066593,\n",
       "               0.7092761470424749,\n",
       "               0.7210108518868348,\n",
       "               0.733548422074826,\n",
       "               0.7472898273027836,\n",
       "               0.7431119085900866]]})"
      ]
     },
     "execution_count": 33,
     "metadata": {},
     "output_type": "execute_result"
    }
   ],
   "source": [
    "sil_scores"
   ]
  },
  {
   "cell_type": "code",
   "execution_count": null,
   "metadata": {},
   "outputs": [],
   "source": [
    "import pickle\n",
    "\n",
    "with open(\"sil_scores.pickle\",\"wb\") as f_handle:\n",
    "    pickle.dump(sil_scores, f_handle)\n",
    "\n",
    "    \n",
    "with open(\"elbow_scores.pickle\",\"wb\") as f_handle:\n",
    "    pickle.dump(elbow_scores, f_handle)\n"
   ]
  },
  {
   "cell_type": "code",
   "execution_count": null,
   "metadata": {},
   "outputs": [],
   "source": []
  }
 ],
 "metadata": {
  "kernelspec": {
   "display_name": "Python 3",
   "language": "python",
   "name": "python3"
  },
  "language_info": {
   "codemirror_mode": {
    "name": "ipython",
    "version": 3
   },
   "file_extension": ".py",
   "mimetype": "text/x-python",
   "name": "python",
   "nbconvert_exporter": "python",
   "pygments_lexer": "ipython3",
   "version": "3.6.9"
  }
 },
 "nbformat": 4,
 "nbformat_minor": 2
}
