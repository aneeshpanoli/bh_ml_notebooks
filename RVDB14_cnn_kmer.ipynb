{
 "cells": [
  {
   "cell_type": "markdown",
   "metadata": {},
   "source": [
    "# Import libraries"
   ]
  },
  {
   "cell_type": "code",
   "execution_count": 1,
   "metadata": {},
   "outputs": [
    {
     "name": "stderr",
     "output_type": "stream",
     "text": [
      "/home/aneesh/Projects/covid_bh_ml/lib/python3.6/site-packages/sklearn/utils/deprecation.py:144: FutureWarning: The sklearn.metrics.scorer module is  deprecated in version 0.22 and will be removed in version 0.24. The corresponding classes / functions should instead be imported from sklearn.metrics. Anything that cannot be imported from sklearn.metrics is now part of the private API.\n",
      "  warnings.warn(message, FutureWarning)\n",
      "/home/aneesh/Projects/covid_bh_ml/lib/python3.6/site-packages/sklearn/utils/deprecation.py:144: FutureWarning: The sklearn.feature_selection.base module is  deprecated in version 0.22 and will be removed in version 0.24. The corresponding classes / functions should instead be imported from sklearn.feature_selection. Anything that cannot be imported from sklearn.feature_selection is now part of the private API.\n",
      "  warnings.warn(message, FutureWarning)\n",
      "Using TensorFlow backend.\n"
     ]
    }
   ],
   "source": [
    "import sklearn\n",
    "import numpy as np\n",
    "from sklearn.feature_extraction.text import CountVectorizer\n",
    "from sklearn.cluster import MiniBatchKMeans\n",
    "import matplotlib.pyplot as plt\n",
    "from eli5 import show_weights, show_prediction\n",
    "import seaborn as sns\n",
    "from sklearn.manifold import TSNE\n",
    "import os\n",
    "import pandas as pd\n",
    "from skbio import Protein\n",
    "from Bio.Seq import Seq\n",
    "from Bio.Alphabet import generic_dna, generic_protein\n",
    "\n",
    "#custom\n",
    "from py.helper import DataProcessing\n",
    "from py.ml_metrics import evaluate_model, multiclass_logloss\n",
    "from py.plotting import plot_tsne\n"
   ]
  },
  {
   "cell_type": "code",
   "execution_count": 2,
   "metadata": {},
   "outputs": [],
   "source": [
    "# set K-mer length here\n",
    "kmer = 2\n"
   ]
  },
  {
   "cell_type": "code",
   "execution_count": 3,
   "metadata": {},
   "outputs": [],
   "source": [
    "rvdb14 = DataProcessing('RVDB14_complete_coronavirus_fixed.fasta', 'RVDB14_Coronavirus_meta_data_human_pathogen.csv')"
   ]
  },
  {
   "cell_type": "markdown",
   "metadata": {},
   "source": [
    "# Load cleaned data"
   ]
  },
  {
   "cell_type": "code",
   "execution_count": 4,
   "metadata": {
    "scrolled": true
   },
   "outputs": [
    {
     "data": {
      "text/html": [
       "<div>\n",
       "<style scoped>\n",
       "    .dataframe tbody tr th:only-of-type {\n",
       "        vertical-align: middle;\n",
       "    }\n",
       "\n",
       "    .dataframe tbody tr th {\n",
       "        vertical-align: top;\n",
       "    }\n",
       "\n",
       "    .dataframe thead th {\n",
       "        text-align: right;\n",
       "    }\n",
       "</style>\n",
       "<table border=\"1\" class=\"dataframe\">\n",
       "  <thead>\n",
       "    <tr style=\"text-align: right;\">\n",
       "      <th></th>\n",
       "      <th>seq</th>\n",
       "      <th>id</th>\n",
       "      <th>description</th>\n",
       "      <th>label</th>\n",
       "      <th>accession</th>\n",
       "    </tr>\n",
       "  </thead>\n",
       "  <tbody>\n",
       "    <tr>\n",
       "      <th>0</th>\n",
       "      <td>ACTTTTAAAGATAAGTGAGTGTAGCGTAGCTGCCTACTTTCTTTAA...</td>\n",
       "      <td>acc|REFSEQ|NC_030292.1|Ferret</td>\n",
       "      <td>acc|REFSEQ|NC_030292.1|Ferret coronavirus isol...</td>\n",
       "      <td>0</td>\n",
       "      <td>NC_030292.1</td>\n",
       "    </tr>\n",
       "    <tr>\n",
       "      <th>1</th>\n",
       "      <td>ACTTAAGTGTCTTATCTATCTATAGATAGAAAAGTCGCTTTTTAGA...</td>\n",
       "      <td>acc|REFSEQ|NC_028752.1|Camel</td>\n",
       "      <td>acc|REFSEQ|NC_028752.1|Camel alphacoronavirus ...</td>\n",
       "      <td>1</td>\n",
       "      <td>NC_028752.1</td>\n",
       "    </tr>\n",
       "    <tr>\n",
       "      <th>2</th>\n",
       "      <td>AGTAAAGTGAGTGTAGCGTGGCTATATCTCTTCTTTTACTTTAACT...</td>\n",
       "      <td>acc|REFSEQ|NC_028806.1|Swine</td>\n",
       "      <td>acc|REFSEQ|NC_028806.1|Swine enteric coronavir...</td>\n",
       "      <td>1</td>\n",
       "      <td>NC_028806.1</td>\n",
       "    </tr>\n",
       "    <tr>\n",
       "      <th>3</th>\n",
       "      <td>AAGTGTCGTGCTCCTAGGGGTTGCACTTGACGTGTTCCGTCACGTA...</td>\n",
       "      <td>acc|REFSEQ|NC_028824.1|BtRf-AlphaCoV_YN2012,</td>\n",
       "      <td>acc|REFSEQ|NC_028824.1|BtRf-AlphaCoV_YN2012, a...</td>\n",
       "      <td>0</td>\n",
       "      <td>NC_028824.1</td>\n",
       "    </tr>\n",
       "    <tr>\n",
       "      <th>4</th>\n",
       "      <td>GGCCCCCATGGCTAGCAACCGTATTTCGTTGGCTTTTGCCAATGAT...</td>\n",
       "      <td>acc|REFSEQ|NC_028814.1|BtRf-AlphaCoV_HuB2013,</td>\n",
       "      <td>acc|REFSEQ|NC_028814.1|BtRf-AlphaCoV_HuB2013, ...</td>\n",
       "      <td>1</td>\n",
       "      <td>NC_028814.1</td>\n",
       "    </tr>\n",
       "  </tbody>\n",
       "</table>\n",
       "</div>"
      ],
      "text/plain": [
       "                                                 seq  \\\n",
       "0  ACTTTTAAAGATAAGTGAGTGTAGCGTAGCTGCCTACTTTCTTTAA...   \n",
       "1  ACTTAAGTGTCTTATCTATCTATAGATAGAAAAGTCGCTTTTTAGA...   \n",
       "2  AGTAAAGTGAGTGTAGCGTGGCTATATCTCTTCTTTTACTTTAACT...   \n",
       "3  AAGTGTCGTGCTCCTAGGGGTTGCACTTGACGTGTTCCGTCACGTA...   \n",
       "4  GGCCCCCATGGCTAGCAACCGTATTTCGTTGGCTTTTGCCAATGAT...   \n",
       "\n",
       "                                              id  \\\n",
       "0                  acc|REFSEQ|NC_030292.1|Ferret   \n",
       "1                   acc|REFSEQ|NC_028752.1|Camel   \n",
       "2                   acc|REFSEQ|NC_028806.1|Swine   \n",
       "3   acc|REFSEQ|NC_028824.1|BtRf-AlphaCoV_YN2012,   \n",
       "4  acc|REFSEQ|NC_028814.1|BtRf-AlphaCoV_HuB2013,   \n",
       "\n",
       "                                         description  label    accession  \n",
       "0  acc|REFSEQ|NC_030292.1|Ferret coronavirus isol...      0  NC_030292.1  \n",
       "1  acc|REFSEQ|NC_028752.1|Camel alphacoronavirus ...      1  NC_028752.1  \n",
       "2  acc|REFSEQ|NC_028806.1|Swine enteric coronavir...      1  NC_028806.1  \n",
       "3  acc|REFSEQ|NC_028824.1|BtRf-AlphaCoV_YN2012, a...      0  NC_028824.1  \n",
       "4  acc|REFSEQ|NC_028814.1|BtRf-AlphaCoV_HuB2013, ...      1  NC_028814.1  "
      ]
     },
     "execution_count": 4,
     "metadata": {},
     "output_type": "execute_result"
    }
   ],
   "source": [
    "cleaned_path = os.path.join(rvdb14.data_path, 'RVDB14_complete_coronavirus_fixed.fasta.csv')\n",
    "\n",
    "cleaned_df = pd.read_csv(cleaned_path, dtype={'label':int})\n",
    "# remove nans\n",
    "cleaned_df.dropna(inplace=True)\n",
    "\n",
    "# remove artifacts\n",
    "for index, row in cleaned_df.iterrows():\n",
    "    if row['label'] < 0:\n",
    "        cleaned_df.drop(index, inplace=True)\n",
    "cleanded_df = cleaned_df[cleaned_df['label'] >= 0]\n",
    "cleaned_df.head()"
   ]
  },
  {
   "cell_type": "code",
   "execution_count": 5,
   "metadata": {},
   "outputs": [
    {
     "name": "stdout",
     "output_type": "stream",
     "text": [
      "Labels found: [0 1]\n"
     ]
    },
    {
     "data": {
      "text/plain": [
       "<matplotlib.axes._subplots.AxesSubplot at 0x7f22de44a160>"
      ]
     },
     "execution_count": 5,
     "metadata": {},
     "output_type": "execute_result"
    },
    {
     "data": {
      "image/png": "[encoded data removed]",
      "text/plain": [
       "<Figure size 432x288 with 1 Axes>"
      ]
     },
     "metadata": {
      "needs_background": "light"
     },
     "output_type": "display_data"
    }
   ],
   "source": [
    "# biinary labels - sanity check \n",
    "\n",
    "print(f\"Labels found: {cleaned_df['label'].unique()}\")\n",
    "sns.countplot(cleaned_df['label'])"
   ]
  },
  {
   "cell_type": "code",
   "execution_count": 6,
   "metadata": {},
   "outputs": [
    {
     "name": "stdout",
     "output_type": "stream",
     "text": [
      "Sequence length - max:31775, min:25320\n"
     ]
    }
   ],
   "source": [
    "# min and max length of sequences\n",
    "max_len = max(len(s) for s in cleaned_df['seq'])\n",
    "min_len =min(len(s) for s in cleaned_df['seq'])\n",
    "print(f\"Sequence length - max:{max_len}, min:{min_len}\")"
   ]
  },
  {
   "cell_type": "code",
   "execution_count": 7,
   "metadata": {},
   "outputs": [
    {
     "name": "stdout",
     "output_type": "stream",
     "text": [
      "FKDK\n",
      "KDK*\n",
      "DK*V\n",
      "K*V*\n",
      "*V*R\n",
      "V*RS\n",
      "*RSC\n",
      "RSCL\n"
     ]
    }
   ],
   "source": [
    "my_dna = Seq(\"TTTAAAGATAAGTGAGTGTAGCGTAGCTGCCTA\", generic_dna).translate()\n",
    "for i in Protein(str(my_dna)).iter_kmers(4):\n",
    "    print(i)"
   ]
  },
  {
   "cell_type": "code",
   "execution_count": 8,
   "metadata": {},
   "outputs": [
    {
     "name": "stderr",
     "output_type": "stream",
     "text": [
      "/home/aneesh/Projects/covid_bh_ml/lib/python3.6/site-packages/Bio/Seq.py:2859: BiopythonWarning: Partial codon, len(sequence) not a multiple of three. Explicitly trim the sequence or add trailing N before translation. This may become an error in future.\n",
      "  BiopythonWarning,\n"
     ]
    },
    {
     "data": {
      "text/html": [
       "<div>\n",
       "<style scoped>\n",
       "    .dataframe tbody tr th:only-of-type {\n",
       "        vertical-align: middle;\n",
       "    }\n",
       "\n",
       "    .dataframe tbody tr th {\n",
       "        vertical-align: top;\n",
       "    }\n",
       "\n",
       "    .dataframe thead th {\n",
       "        text-align: right;\n",
       "    }\n",
       "</style>\n",
       "<table border=\"1\" class=\"dataframe\">\n",
       "  <thead>\n",
       "    <tr style=\"text-align: right;\">\n",
       "      <th></th>\n",
       "      <th>seq</th>\n",
       "      <th>id</th>\n",
       "      <th>description</th>\n",
       "      <th>label</th>\n",
       "      <th>accession</th>\n",
       "      <th>kmers</th>\n",
       "    </tr>\n",
       "  </thead>\n",
       "  <tbody>\n",
       "    <tr>\n",
       "      <th>0</th>\n",
       "      <td>ACTTTTAAAGATAAGTGAGTGTAGCGTAGCTGCCTACTTTCTTTAA...</td>\n",
       "      <td>acc|REFSEQ|NC_030292.1|Ferret</td>\n",
       "      <td>acc|REFSEQ|NC_030292.1|Ferret coronavirus isol...</td>\n",
       "      <td>0</td>\n",
       "      <td>NC_030292.1</td>\n",
       "      <td>[TF, KD, K*, V*, RS, CL, LS, LT, *L, *V, KS, T...</td>\n",
       "    </tr>\n",
       "    <tr>\n",
       "      <th>1</th>\n",
       "      <td>ACTTAAGTGTCTTATCTATCTATAGATAGAAAAGTCGCTTTTTAGA...</td>\n",
       "      <td>acc|REFSEQ|NC_028752.1|Camel</td>\n",
       "      <td>acc|REFSEQ|NC_028752.1|Camel alphacoronavirus ...</td>\n",
       "      <td>1</td>\n",
       "      <td>NC_028752.1</td>\n",
       "      <td>[T*, VS, YL, SI, DR, KV, AF, *T, LC, LL, FS, T...</td>\n",
       "    </tr>\n",
       "    <tr>\n",
       "      <th>2</th>\n",
       "      <td>AGTAAAGTGAGTGTAGCGTGGCTATATCTCTTCTTTTACTTTAACT...</td>\n",
       "      <td>acc|REFSEQ|NC_028806.1|Swine</td>\n",
       "      <td>acc|REFSEQ|NC_028806.1|Swine enteric coronavir...</td>\n",
       "      <td>1</td>\n",
       "      <td>NC_028806.1</td>\n",
       "      <td>[SK, VS, VA, WL, YL, FF, YF, N*, LC, AR, FC, L...</td>\n",
       "    </tr>\n",
       "    <tr>\n",
       "      <th>3</th>\n",
       "      <td>AAGTGTCGTGCTCCTAGGGGTTGCACTTGACGTGTTCCGTCACGTA...</td>\n",
       "      <td>acc|REFSEQ|NC_028824.1|BtRf-AlphaCoV_YN2012,</td>\n",
       "      <td>acc|REFSEQ|NC_028824.1|BtRf-AlphaCoV_YN2012, a...</td>\n",
       "      <td>0</td>\n",
       "      <td>NC_028824.1</td>\n",
       "      <td>[KC, RA, PR, GC, T*, RV, PS, RT, CV, LS, GP, T...</td>\n",
       "    </tr>\n",
       "    <tr>\n",
       "      <th>4</th>\n",
       "      <td>GGCCCCCATGGCTAGCAACCGTATTTCGTTGGCTTTTGCCAATGAT...</td>\n",
       "      <td>acc|REFSEQ|NC_028814.1|BtRf-AlphaCoV_HuB2013,</td>\n",
       "      <td>acc|REFSEQ|NC_028814.1|BtRf-AlphaCoV_HuB2013, ...</td>\n",
       "      <td>1</td>\n",
       "      <td>NC_028814.1</td>\n",
       "      <td>[GP, HG, *Q, PY, FV, GF, CQ, *F, RD, FS, SW, L...</td>\n",
       "    </tr>\n",
       "  </tbody>\n",
       "</table>\n",
       "</div>"
      ],
      "text/plain": [
       "                                                 seq  \\\n",
       "0  ACTTTTAAAGATAAGTGAGTGTAGCGTAGCTGCCTACTTTCTTTAA...   \n",
       "1  ACTTAAGTGTCTTATCTATCTATAGATAGAAAAGTCGCTTTTTAGA...   \n",
       "2  AGTAAAGTGAGTGTAGCGTGGCTATATCTCTTCTTTTACTTTAACT...   \n",
       "3  AAGTGTCGTGCTCCTAGGGGTTGCACTTGACGTGTTCCGTCACGTA...   \n",
       "4  GGCCCCCATGGCTAGCAACCGTATTTCGTTGGCTTTTGCCAATGAT...   \n",
       "\n",
       "                                              id  \\\n",
       "0                  acc|REFSEQ|NC_030292.1|Ferret   \n",
       "1                   acc|REFSEQ|NC_028752.1|Camel   \n",
       "2                   acc|REFSEQ|NC_028806.1|Swine   \n",
       "3   acc|REFSEQ|NC_028824.1|BtRf-AlphaCoV_YN2012,   \n",
       "4  acc|REFSEQ|NC_028814.1|BtRf-AlphaCoV_HuB2013,   \n",
       "\n",
       "                                         description  label    accession  \\\n",
       "0  acc|REFSEQ|NC_030292.1|Ferret coronavirus isol...      0  NC_030292.1   \n",
       "1  acc|REFSEQ|NC_028752.1|Camel alphacoronavirus ...      1  NC_028752.1   \n",
       "2  acc|REFSEQ|NC_028806.1|Swine enteric coronavir...      1  NC_028806.1   \n",
       "3  acc|REFSEQ|NC_028824.1|BtRf-AlphaCoV_YN2012, a...      0  NC_028824.1   \n",
       "4  acc|REFSEQ|NC_028814.1|BtRf-AlphaCoV_HuB2013, ...      1  NC_028814.1   \n",
       "\n",
       "                                               kmers  \n",
       "0  [TF, KD, K*, V*, RS, CL, LS, LT, *L, *V, KS, T...  \n",
       "1  [T*, VS, YL, SI, DR, KV, AF, *T, LC, LL, FS, T...  \n",
       "2  [SK, VS, VA, WL, YL, FF, YF, N*, LC, AR, FC, L...  \n",
       "3  [KC, RA, PR, GC, T*, RV, PS, RT, CV, LS, GP, T...  \n",
       "4  [GP, HG, *Q, PY, FV, GF, CQ, *F, RD, FS, SW, L...  "
      ]
     },
     "execution_count": 8,
     "metadata": {},
     "output_type": "execute_result"
    }
   ],
   "source": [
    "#make kmers\n",
    "def get_kmer(row, k):\n",
    "    my_protein = str(Seq(row, generic_dna).translate())\n",
    "    return [my_protein[i:i+k] for i in range(0, len(my_protein), k)]\n",
    "\n",
    "\n",
    "cleaned_df['kmers'] = cleaned_df['seq'].apply(get_kmer, args=(kmer,))\n",
    "cleaned_df.head()"
   ]
  },
  {
   "cell_type": "code",
   "execution_count": 9,
   "metadata": {},
   "outputs": [
    {
     "name": "stdout",
     "output_type": "stream",
     "text": [
      "Number of unique kmers:535, min length of kmer arr: 4220\n"
     ]
    }
   ],
   "source": [
    "# find letter representations\n",
    "kmers = []\n",
    "[kmers.extend(i) for i in  cleaned_df['kmers']]\n",
    "min_len = min([len(i) for i in cleaned_df['kmers']])\n",
    "len_kmers = len(set(kmers)) # unique kmers\n",
    "print(f'Number of unique kmers:{len_kmers}, min length of kmer arr: {min_len}')\n",
    "# sns.countplot(kmers)"
   ]
  },
  {
   "cell_type": "markdown",
   "metadata": {},
   "source": [
    "# deep learning with convolutional neural nets\n",
    "# kmers\n"
   ]
  },
  {
   "cell_type": "code",
   "execution_count": 10,
   "metadata": {},
   "outputs": [
    {
     "name": "stdout",
     "output_type": "stream",
     "text": [
      "Example sequence\n",
      "-----------------------\n",
      "nucleotude Sequence #1:\n",
      " ['TF', 'KD', 'K*', 'V*', 'RS', 'CL', 'LS', 'LT', '*L', '*V'] ... ['*L', '*L', 'YY', 'FL', '*H', 'YL', 'IL', 'LG', 'CA', 'RL']\n",
      "One hot encoding of Sequence #1:\n",
      " [[0. 0. 0. ... 0. 0. 0.]\n",
      " [0. 0. 0. ... 0. 0. 0.]\n",
      " [0. 0. 0. ... 0. 0. 0.]\n",
      " ...\n",
      " [0. 0. 0. ... 0. 0. 0.]\n",
      " [0. 0. 0. ... 0. 0. 0.]\n",
      " [0. 0. 0. ... 0. 0. 0.]]\n"
     ]
    }
   ],
   "source": [
    "from sklearn.preprocessing import LabelEncoder, OneHotEncoder\n",
    "from numpy import array\n",
    "import itertools\n",
    "\n",
    "# The LabelEncoder encodes a sequence of residues as a sequence of integers.\n",
    "integer_encoder = LabelEncoder()\n",
    "# The OneHotEncoder converts an array of integers to a sparse matrix where \n",
    "# each row corresponds to one possible value of each feature.\n",
    "one_hot_encoder = OneHotEncoder(categories='auto')\n",
    "\n",
    "#fit one-hot encorder with all neucleotides\n",
    "integer_cat_arr = np.array(list(range(len_kmers))).reshape(-1, 1)\n",
    "one_hot_encoder = one_hot_encoder.fit(integer_cat_arr)\n",
    "sequences = [i[:min_len] for i in cleaned_df['kmers']]\n",
    "\n",
    "#fit the label encoder with all the nucleotides\n",
    "integer_encoder = integer_encoder.fit(list(itertools.chain.from_iterable(sequences)))\n",
    "input_features = []\n",
    "# int_encoded = [] # for LSTM\n",
    "\n",
    "for sequence in sequences:\n",
    "  integer_encoded = integer_encoder.transform(sequence)\n",
    "#   int_encoded.append(integer_encoded)\n",
    "  integer_encoded = np.array(integer_encoded).reshape(-1, 1)\n",
    "  one_hot_encoded = one_hot_encoder.transform(integer_encoded)\n",
    "  input_features.append(one_hot_encoded.toarray())\n",
    "\n",
    "# int_encoded = array(int_encoded)\n",
    "# print(int_encoded)\n",
    "np.set_printoptions(threshold=40)\n",
    "input_features = np.stack(input_features)\n",
    "print(\"Example sequence\\n-----------------------\")\n",
    "print('nucleotude Sequence #1:\\n',sequences[0][:10],'...',sequences[0][-10:])\n",
    "print('One hot encoding of Sequence #1:\\n',input_features[0].T)"
   ]
  },
  {
   "cell_type": "code",
   "execution_count": 11,
   "metadata": {},
   "outputs": [
    {
     "name": "stdout",
     "output_type": "stream",
     "text": [
      "Labels:\n",
      " [[0 1 1 ... 1 0 0]]\n",
      "One-hot encoded labels:\n",
      " [[1. 0. 0. ... 0. 1. 1.]\n",
      " [0. 1. 1. ... 1. 0. 0.]]\n"
     ]
    },
    {
     "data": {
      "text/plain": [
       "(2206, 2)"
      ]
     },
     "execution_count": 11,
     "metadata": {},
     "output_type": "execute_result"
    }
   ],
   "source": [
    "one_hot_encoder = OneHotEncoder(categories='auto')\n",
    "labels = np.array(cleaned_df['label']).reshape(-1, 1)\n",
    "input_labels = one_hot_encoder.fit_transform(labels).toarray()\n",
    "\n",
    "print('Labels:\\n',labels.T)\n",
    "print('One-hot encoded labels:\\n',input_labels.T)\n",
    "input_labels.shape"
   ]
  },
  {
   "cell_type": "code",
   "execution_count": 12,
   "metadata": {},
   "outputs": [],
   "source": [
    "from sklearn.model_selection import train_test_split\n",
    "\n",
    "train_features, test_features, train_labels, test_labels = train_test_split(\n",
    "    input_features, input_labels, test_size=0.2, random_state=42)"
   ]
  },
  {
   "cell_type": "code",
   "execution_count": 13,
   "metadata": {},
   "outputs": [
    {
     "name": "stdout",
     "output_type": "stream",
     "text": [
      "Model: \"sequential\"\n",
      "_________________________________________________________________\n",
      "Layer (type)                 Output Shape              Param #   \n",
      "=================================================================\n",
      "conv1d (Conv1D)              (None, 4217, 32)          68512     \n",
      "_________________________________________________________________\n",
      "dropout (Dropout)            (None, 4217, 32)          0         \n",
      "_________________________________________________________________\n",
      "max_pooling1d (MaxPooling1D) (None, 1405, 32)          0         \n",
      "_________________________________________________________________\n",
      "dropout_1 (Dropout)          (None, 1405, 32)          0         \n",
      "_________________________________________________________________\n",
      "conv1d_1 (Conv1D)            (None, 1402, 32)          4128      \n",
      "_________________________________________________________________\n",
      "dropout_2 (Dropout)          (None, 1402, 32)          0         \n",
      "_________________________________________________________________\n",
      "max_pooling1d_1 (MaxPooling1 (None, 467, 32)           0         \n",
      "_________________________________________________________________\n",
      "flatten (Flatten)            (None, 14944)             0         \n",
      "_________________________________________________________________\n",
      "dense (Dense)                (None, 16)                239120    \n",
      "_________________________________________________________________\n",
      "dense_1 (Dense)              (None, 2)                 34        \n",
      "=================================================================\n",
      "Total params: 311,794\n",
      "Trainable params: 311,794\n",
      "Non-trainable params: 0\n",
      "_________________________________________________________________\n"
     ]
    }
   ],
   "source": [
    "from tensorflow.keras.layers import Conv1D, Dense, MaxPooling1D, Flatten, Dropout\n",
    "from tensorflow.keras.models import Sequential\n",
    "\n",
    "model = Sequential()\n",
    "model.add(Conv1D(filters=32, kernel_size=4,input_shape=(train_features.shape[1], len_kmers)))\n",
    "\n",
    "model.add(Dropout(0.2))\n",
    "model.add(MaxPooling1D(pool_size=3))\n",
    "model.add(Dropout(0.1))\n",
    "model.add(Conv1D(filters=32, kernel_size=4))\n",
    "model.add(Dropout(0.2))\n",
    "model.add(MaxPooling1D(pool_size=3))\n",
    "\n",
    "\n",
    "model.add(Flatten())\n",
    "\n",
    "model.add(Dense(16, activation='relu'))\n",
    "model.add(Dense(2, activation='softmax'))\n",
    "\n",
    "model.compile(loss='binary_crossentropy', optimizer='adam', metrics=['binary_accuracy'])\n",
    "model.summary()"
   ]
  },
  {
   "cell_type": "code",
   "execution_count": 15,
   "metadata": {},
   "outputs": [],
   "source": [
    "input_features = None"
   ]
  },
  {
   "cell_type": "code",
   "execution_count": null,
   "metadata": {},
   "outputs": [
    {
     "name": "stdout",
     "output_type": "stream",
     "text": [
      "Train on 1411 samples, validate on 353 samples\n",
      "Epoch 1/50\n",
      "1411/1411 - 600s - loss: 0.6615 - binary_accuracy: 0.6031 - val_loss: 0.6249 - val_binary_accuracy: 0.6771\n",
      "Epoch 2/50\n",
      "1411/1411 - 491s - loss: 0.6298 - binary_accuracy: 0.6619 - val_loss: 0.6163 - val_binary_accuracy: 0.6487\n",
      "Epoch 3/50\n"
     ]
    }
   ],
   "source": [
    "history = model.fit(train_features, train_labels, epochs=50, verbose=2, validation_split=0.2, shuffle=True)\n",
    "\n",
    "plt.figure()\n",
    "plt.plot(history.history['loss'])\n",
    "plt.plot(history.history['val_loss'])\n",
    "plt.title('model loss')\n",
    "plt.ylabel('loss')\n",
    "plt.xlabel('epoch')\n",
    "plt.legend(['train', 'validation'])\n",
    "plt.show()"
   ]
  },
  {
   "cell_type": "code",
   "execution_count": null,
   "metadata": {},
   "outputs": [],
   "source": [
    "model.save('model.model')"
   ]
  },
  {
   "cell_type": "code",
   "execution_count": null,
   "metadata": {},
   "outputs": [],
   "source": [
    "plt.figure()\n",
    "plt.plot(history.history['binary_accuracy'])\n",
    "plt.plot(history.history['val_binary_accuracy'])\n",
    "plt.title('model accuracy')\n",
    "plt.ylabel('accuracy')\n",
    "plt.xlabel('epoch')\n",
    "plt.legend(['train', 'validation'])\n",
    "plt.show()"
   ]
  },
  {
   "cell_type": "code",
   "execution_count": null,
   "metadata": {},
   "outputs": [],
   "source": [
    "from sklearn.metrics import confusion_matrix\n",
    "import itertools\n",
    "\n",
    "predicted_labels = model.predict(np.stack(test_features))\n",
    "cm = confusion_matrix(np.argmax(test_labels, axis=1), \n",
    "                      np.argmax(predicted_labels, axis=1))\n",
    "print('Confusion matrix:\\n',cm)\n",
    "\n",
    "cm = cm.astype('float') / cm.sum(axis = 1)[:, np.newaxis]\n",
    "\n",
    "plt.imshow(cm, cmap=plt.cm.Blues)\n",
    "plt.title('Normalized confusion matrix')\n",
    "plt.colorbar()\n",
    "plt.xlabel('True label')\n",
    "plt.ylabel('Predicted label')\n",
    "plt.xticks([0, 1]); plt.yticks([0, 1])\n",
    "plt.grid('off')\n",
    "for i, j in itertools.product(range(cm.shape[0]), range(cm.shape[1])):\n",
    "    plt.text(j, i, format(cm[i, j], '.2f'),\n",
    "             horizontalalignment='center',\n",
    "             color='white' if cm[i, j] > 0.5 else 'black')"
   ]
  },
  {
   "cell_type": "code",
   "execution_count": null,
   "metadata": {},
   "outputs": [],
   "source": [
    "import tensorflow as tf\n",
    "print(\"Num GPUs Available: \", len(tf.config.experimental.list_physical_devices('GPU')))"
   ]
  },
  {
   "cell_type": "code",
   "execution_count": null,
   "metadata": {},
   "outputs": [],
   "source": [
    "tf.__version__"
   ]
  },
  {
   "cell_type": "code",
   "execution_count": null,
   "metadata": {},
   "outputs": [],
   "source": [
    "tf.config.list_physical_devices('GPU')"
   ]
  },
  {
   "cell_type": "code",
   "execution_count": null,
   "metadata": {},
   "outputs": [],
   "source": []
  },
  {
   "cell_type": "code",
   "execution_count": null,
   "metadata": {},
   "outputs": [],
   "source": [
    "import tensorflow.keras.backend as K\n",
    "\n",
    "def compute_salient_residues(model, x):\n",
    "  input_tensors = [model.input]\n",
    "  gradients = model.optimizer.get_gradients(model.output[0][1], model.input)\n",
    "  compute_gradients = K.function(inputs = input_tensors, outputs = gradients)\n",
    "  \n",
    "  x_value = np.expand_dims(x, axis=0)\n",
    "  gradients = compute_gradients([x_value])[0][0]\n",
    "  sal = np.clip(np.sum(np.multiply(gradients,x), axis=1),a_min=0, a_max=None)"
   ]
  },
  {
   "cell_type": "code",
   "execution_count": null,
   "metadata": {},
   "outputs": [],
   "source": [
    "sequence_index = 2  # You can change this to compute the gradient for a different example. But if so, change the coloring below as well.\n",
    "sal = compute_salient_residues(model, input_features[sequence_index])\n",
    "\n",
    "plt.figure(figsize=[16,5])\n",
    "barlist = plt.bar(np.arange(len(sal)), sal)\n",
    "[barlist[i].set_color('C') for i in range(2, 6)]  # Change the coloring here if you change the sequence index.\n",
    "plt.xlabel('Amino Acids')\n",
    "plt.ylabel('Magnitude of saliency values')\n",
    "plt.xticks(np.arange(len(sal)), list(sequences[sequence_index]));\n",
    "plt.title('Saliency map for residues in one of the positive sequences'\n",
    "          ' (green indicates the actual residue in motif)');\n",
    "plt.show()"
   ]
  },
  {
   "cell_type": "code",
   "execution_count": null,
   "metadata": {},
   "outputs": [],
   "source": []
  }
 ],
 "metadata": {
  "kernelspec": {
   "display_name": "Python 3",
   "language": "python",
   "name": "python3"
  },
  "language_info": {
   "codemirror_mode": {
    "name": "ipython",
    "version": 3
   },
   "file_extension": ".py",
   "mimetype": "text/x-python",
   "name": "python",
   "nbconvert_exporter": "python",
   "pygments_lexer": "ipython3",
   "version": "3.6.9"
  }
 },
 "nbformat": 4,
 "nbformat_minor": 2
}
